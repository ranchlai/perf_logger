{
 "cells": [
  {
   "cell_type": "code",
   "execution_count": 9,
   "metadata": {},
   "outputs": [],
   "source": [
    "\n",
    "import json\n",
    "import time\n",
    "import glob\n",
    "import numpy as np\n",
    "import matplotlib.pyplot as plt\n",
    "import os\n",
    "import time\n",
    "\n",
    "from pathlib import Path\n",
    "#print()\n",
    "\n",
    "\n",
    "def rand_str(n=16):\n",
    "    return ''.join(list(np.random.choice(list('abcdefghijklmnopqrstuvwxyz'),size=n)))\n",
    "\n",
    "def get_json_file():\n",
    "    return get_time_str()+'.json'\n",
    "\n",
    "def get_msg_file():\n",
    "    return get_time_str()+'.log'\n",
    "\n",
    "def get_time_str():\n",
    "    tm = time.localtime()\n",
    "    return '{:4}-{:02}-{:02}-{:02}-{:02}-{:02}'.format(tm.tm_year,tm.tm_mon,tm.tm_mday,tm.tm_hour,tm.tm_min,tm.tm_sec)\n",
    "\n",
    "def get_time_str2():\n",
    "    tm = time.localtime()\n",
    "    return '{:4}-{:02}-{:02} {:02}:{:02}:{:02}'.format(tm.tm_year,tm.tm_mon,tm.tm_mday,tm.tm_hour,tm.tm_min,tm.tm_sec)\n",
    "\n",
    "\n",
    "def get_time_from_str(time_str):\n",
    "    t = [int(s) for s in time_str.split('-')]\n",
    "    return (t[0]-2000)*365*24*60*60+t[1]*30*24*60*60+t[2]*24*60*60+t[3]*60*60+t[4]*60+t[5]\n",
    "\n",
    "def plot_stat(stat,with_loss=True):\n",
    "    plt.plot(stat[:,0].astype('int32'),stat[:,1])\n",
    "    plt.plot(stat[:,0].astype('int32'),stat[:,2])\n",
    "    if with_loss:\n",
    "        plt.plot(stat[:,0].astype('int32'),stat[:,3])\n",
    "        plt.plot(stat[:,0].astype('int32'),stat[:,4])\n",
    "\n",
    "class PerfLogger():\n",
    "    def __init__(self, prefix = None):\n",
    "        if prefix is None:\n",
    "            self.prefix = rand_str(8)\n",
    "        else:\n",
    "            self.prefix = prefix\n",
    "        \n",
    "        #self.get_logger_name()\n",
    "            \n",
    "        self.root = os.path.join(Path.home(),'.perf_logger/')\n",
    "        \n",
    "        self.log_path = os.path.join(self.root,self.prefix)\n",
    "        if os.path.exists(self.log_path):\n",
    "            self.history_files = glob.glob(self.log_path+'/*.json')\n",
    "            self.history_msg_files = glob.glob(self.log_path+'/*.log')\n",
    "            print('log history exists in '+self.log_path)\n",
    "            \n",
    "        else:            \n",
    "            os.makedirs(self.log_path,exist_ok=True)\n",
    "            self.history_files = []\n",
    "            self.history_msg_files = []\n",
    "        \n",
    "        \n",
    "        self.current_log_file = os.path.join(self.log_path,get_json_file())\n",
    "        self.msg_file = os.path.join(self.log_path,get_msg_file())      \n",
    "        \n",
    "        self.current_pf_js = []\n",
    "    def log(self,epoch, train_acc, val_acc,train_loss=0,val_loss=0):\n",
    "        js = [{'train_acc':train_acc,'val_acc':val_acc,'train_loss':train_loss,'val_loss':val_loss,'epoch':epoch}]\n",
    "        self.current_pf_js += js\n",
    "        with open(self.current_log_file,'wt') as fp:\n",
    "            json.dump(self.current_pf_js,fp)      \n",
    "    def log_str(self,msg,stdout=True):\n",
    "        header = get_time_str2()        \n",
    "        try:\n",
    "            with open(self.msg_file,'at') as fp:\n",
    "                fp.write(header+' '+msg+'\\n')\n",
    "            if stdout:\n",
    "                print(header+' '+msg+'\\n')\n",
    "                \n",
    "        except:\n",
    "            raise(Exception('error in writing msg to log file '+self.msg_file))\n",
    "            \n",
    "        \n",
    "        \n",
    "    \n",
    "        \n",
    "    def get_history_log(self):\n",
    "        js = []\n",
    "        names = []\n",
    "        for f in self.history_files:\n",
    "            with open(f,'rt') as fp:\n",
    "                js.append(json.load(fp))\n",
    "            names.append(f.split('/')[-1][:-5])\n",
    "        return js,names\n",
    "        \n",
    "    def show_history_log(self,with_loss=True):\n",
    "        all_js,names = self.get_history_log()\n",
    "        leg = []\n",
    "        if with_loss:\n",
    "            leg0 = ['train_acc','val_acc','train_loss','val_loss']\n",
    "        else:\n",
    "            leg0 = ['train_acc','val_acc']\n",
    "        for name,js in zip(names,all_js):\n",
    "            stat = np.array([(d['epoch'],d['train_acc'],d['val_acc'],d['train_loss'],d['val_loss']) \\\n",
    "                             for d in js])\n",
    "            plot_stat(stat,with_loss)            \n",
    "            leg += [name+':'+l for l in leg0 ]            \n",
    "            plt.legend(leg)\n",
    "        print(leg)\n",
    "        plt.show()\n",
    "        \n",
    "    def list_all_files(self,):\n",
    "        print('index\\tmsg-files')\n",
    "        print('-'*16)\n",
    "        for i, f in enumerate(self.history_msg_files):\n",
    "            print(i,'\\t',f)\n",
    "        print('\\n\\n')\n",
    "        print('index\\tlog-files')\n",
    "        print('-'*16)\n",
    "        \n",
    "        \n",
    "        for i, f in enumerate(self.history_files):\n",
    "            print(i,'\\t',f)\n",
    "        \n",
    "            \n",
    "    \n",
    "    def get_last_log(self):\n",
    "        last_t = 0   \n",
    "        last_f = None\n",
    "        for f in self.history_files:\n",
    "            name = f.split('/')[-1][:-5]\n",
    "            t = get_time_from_str(name)\n",
    "            if t > last_t:\n",
    "                last_t =t\n",
    "                last_f = f\n",
    "        if last_f is None:\n",
    "            return None\n",
    "        with open(last_f,'rt') as fp:\n",
    "            js = json.load(fp)\n",
    "        return js\n",
    "           \n",
    "    def show_last_log(self,with_loss=True):\n",
    "        js = self.get_last_log()\n",
    "        if js is None:\n",
    "            print('no last log existed')\n",
    "            return \n",
    "        stat = np.array([(d['epoch'],d['train_acc'],d['val_acc'],d['train_loss'],d['val_loss']) \\\n",
    "                         for d in js])\n",
    "        plot_stat(stat,with_loss = with_loss)\n",
    "        \n",
    "        plt.legend(['train_acc','val_acc','train_loss','val_loss'])\n",
    "            \n",
    "    \n",
    "    def get_last_log(self):\n",
    "        last_t = 0   \n",
    "        last_f = None\n",
    "        for f in self.history_files:\n",
    "            name = f.split('/')[-1][:-5]\n",
    "            t = get_time_from_str(name)\n",
    "            if t > last_t:\n",
    "                last_t =t\n",
    "                last_f = f\n",
    "        if last_f is None:\n",
    "            return None\n",
    "        with open(last_f,'rt') as fp:\n",
    "            js = json.load(fp)\n",
    "        return js\n",
    "           \n",
    "    def show_last_log(self,with_loss):\n",
    "        js = self.get_last_log()\n",
    "        if js is None:\n",
    "            print('no last log existed')\n",
    "            return \n",
    "        stat = np.array([(d['epoch'],d['train_acc'],d['val_acc'],d['train_loss'],d['val_loss']) \\\n",
    "                         for d in js])\n",
    "        plot_stat(stat,with_loss)\n",
    "\n",
    "        plt.legend(['train_acc','val_acc','train_loss','val_loss'])      \n",
    "        \n",
    "    def compare_last_log(self,with_loss=True):\n",
    "        js = self.get_last_log()\n",
    "        if js is None:\n",
    "            print('no last log existed')\n",
    "            return \n",
    "        stat = np.array([(d['epoch'],d['train_acc'],d['val_acc'],d['train_loss'],d['val_loss']) \\\n",
    "                         for d in js])\n",
    "        plt.figure()\n",
    "        plot_stat(stat,with_loss)\n",
    "        \n",
    "        leg = ['last:train_acc','last:val_acc','last:train_loss','last:val_loss']\n",
    "        if not with_loss:\n",
    "            leg = leg[:-2]\n",
    "        \n",
    "        js = self.current_pf_js\n",
    "        \n",
    "        stat = np.array([(d['epoch'],d['train_acc'],d['val_acc'],d['train_loss'],d['val_loss']) \\\n",
    "                         for d in js])\n",
    "        \n",
    "        plot_stat(stat,with_loss)\n",
    "        leg += ['curr:train_acc','curr:val_acc','curr:train_loss','curr:val_loss']\n",
    "        if not with_loss:\n",
    "            leg = leg[:-2]\n",
    "        plt.legend(leg)  \n",
    "        \n",
    "        plt.show()\n",
    "    def compare_log(self,log_idx,with_loss=True):\n",
    "        try:\n",
    "            log_file = self.history_files[log_idx]\n",
    "            with open(log_file,'rt') as fp:\n",
    "                js = json.load(fp)\n",
    "        except:\n",
    "            raise(Exception('error in loading log file with index:{}'.format(log_idx)))\n",
    "     \n",
    "        stat = np.array([(d['epoch'],d['train_acc'],d['val_acc'],d['train_loss'],d['val_loss']) \\\n",
    "                         for d in js])\n",
    "        plt.figure()\n",
    "        plot_stat(stat,with_loss)\n",
    "        \n",
    "        leg = ['last:train_acc','last:val_acc','last:train_loss','last:val_loss']\n",
    "        if not with_loss:\n",
    "            leg = leg[:-2]\n",
    "        \n",
    "        js = self.current_pf_js\n",
    "        if len(js)!=0:\n",
    "           \n",
    "            stat = np.array([(d['epoch'],d['train_acc'],d['val_acc'],d['train_loss'],d['val_loss']) \\\n",
    "                             for d in js])\n",
    "            plot_stat(stat,with_loss)\n",
    "            leg += ['curr:train_acc','curr:val_acc','curr:train_loss','curr:val_loss']\n",
    "            if not with_loss:\n",
    "                leg = leg[:-2]\n",
    "        plt.legend(leg)  \n",
    "        \n",
    "        plt.show()\n",
    "        \n",
    "  \n",
    "        \n",
    "        \n",
    "    def show_current_log(self,with_loss=True):\n",
    "        js = self.current_pf_js        \n",
    "        stat = np.array([(d['epoch'],d['train_acc'],d['val_acc'],d['train_loss'],d['val_loss']) \\\n",
    "                         for d in js])        \n",
    "        plot_stat(stat,with_loss)\n",
    "        leg = ['curr:train_acc','curr:val_acc','curr:train_loss','curr:val_loss']    \n",
    "        if not with_loss:\n",
    "            leg = leg[:2]\n",
    "        plt.legend(leg)      \n",
    "        plt.show()\n",
    "        \n",
    "#logger = PerfLogger(prefix='vox1_speaker_with_noise_enhan')    \n",
    "#logger.compare_log(2,with_loss=False)\n"
   ]
  },
  {
   "cell_type": "code",
   "execution_count": 3,
   "metadata": {},
   "outputs": [],
   "source": [
    "import os\n"
   ]
  },
  {
   "cell_type": "code",
   "execution_count": null,
   "metadata": {},
   "outputs": [],
   "source": []
  },
  {
   "cell_type": "code",
   "execution_count": 4,
   "metadata": {},
   "outputs": [],
   "source": [
    "train_acc = 0.8\n",
    "val_acc = 0.8\n",
    "train_loss = 0.1\n",
    "val_loss = 0.05"
   ]
  },
  {
   "cell_type": "code",
   "execution_count": 8,
   "metadata": {},
   "outputs": [
    {
     "name": "stdout",
     "output_type": "stream",
     "text": [
      "log history exists in /home/yqlai/.perf_logger/vox1_cls\n",
      "2020-02-21 11:40:57\tagfds\n",
      "\n"
     ]
    }
   ],
   "source": [
    "logger = PerfLogger(prefix='vox1_cls')\n",
    "logger.log_str('agfds')"
   ]
  },
  {
   "cell_type": "code",
   "execution_count": 6,
   "metadata": {},
   "outputs": [
    {
     "ename": "NameError",
     "evalue": "name 'list_all_fileslogger' is not defined",
     "output_type": "error",
     "traceback": [
      "\u001b[0;31m---------------------------------------------------------------------------\u001b[0m",
      "\u001b[0;31mNameError\u001b[0m                                 Traceback (most recent call last)",
      "\u001b[0;32m<ipython-input-6-0bfcc6a1c08f>\u001b[0m in \u001b[0;36m<module>\u001b[0;34m\u001b[0m\n\u001b[0;32m----> 1\u001b[0;31m \u001b[0mlist_all_fileslogger\u001b[0m\u001b[0;34m.\u001b[0m\u001b[0mlog_str\u001b[0m\u001b[0;34m(\u001b[0m\u001b[0;34m'val acfdafdsac imporved. ... form ..ge'\u001b[0m\u001b[0;34m)\u001b[0m\u001b[0;34m\u001b[0m\u001b[0;34m\u001b[0m\u001b[0m\n\u001b[0m",
      "\u001b[0;31mNameError\u001b[0m: name 'list_all_fileslogger' is not defined"
     ]
    }
   ],
   "source": [
    "list_all_fileslogger.log_str('val acfdafdsac imporved. ... form ..ge')"
   ]
  },
  {
   "cell_type": "code",
   "execution_count": 7,
   "metadata": {},
   "outputs": [
    {
     "name": "stdout",
     "output_type": "stream",
     "text": [
      "index\tmsg-files\n",
      "----------------\n",
      "0 \t /home/yqlai/.perf_logger/vox1_cls/2020-02-19-11-17-21.log\n",
      "1 \t /home/yqlai/.perf_logger/vox1_cls/2020-02-19-11-16-30.log\n",
      "2 \t /home/yqlai/.perf_logger/vox1_cls/2020-02-19-11-13-02.log\n",
      "\n",
      "\n",
      "\n",
      "index\tlog-files\n",
      "----------------\n"
     ]
    }
   ],
   "source": [
    "logger.list_all_files()"
   ]
  },
  {
   "cell_type": "code",
   "execution_count": 364,
   "metadata": {},
   "outputs": [
    {
     "data": {
      "text/plain": [
       "(7.188098637773407, 79.2, 3.3000000000000003, 0.05)"
      ]
     },
     "execution_count": 364,
     "metadata": {},
     "output_type": "execute_result"
    }
   ],
   "source": [
    "train_acc*i*float(np.random.rand(1))+1,val_acc*i,train_loss*i/3,val_loss"
   ]
  },
  {
   "cell_type": "code",
   "execution_count": 365,
   "metadata": {},
   "outputs": [],
   "source": [
    "for i in range(100):\n",
    "    logger.log(train_acc*i*float(np.random.rand(1))+1,val_acc*i,train_loss*i/3,val_loss,i)\n"
   ]
  },
  {
   "cell_type": "code",
   "execution_count": 367,
   "metadata": {},
   "outputs": [
    {
     "data": {
      "image/png": "[encoded data removed]",
      "text/plain": [
       "<Figure size 432x288 with 1 Axes>"
      ]
     },
     "metadata": {
      "needs_background": "light"
     },
     "output_type": "display_data"
    }
   ],
   "source": [
    "logger.show_current_log()"
   ]
  },
  {
   "cell_type": "code",
   "execution_count": null,
   "metadata": {},
   "outputs": [],
   "source": []
  },
  {
   "cell_type": "code",
   "execution_count": null,
   "metadata": {},
   "outputs": [],
   "source": []
  },
  {
   "cell_type": "code",
   "execution_count": null,
   "metadata": {},
   "outputs": [],
   "source": []
  }
 ],
 "metadata": {
  "kernelspec": {
   "display_name": "Python 3",
   "language": "python",
   "name": "python3"
  },
  "language_info": {
   "codemirror_mode": {
    "name": "ipython",
    "version": 3
   },
   "file_extension": ".py",
   "mimetype": "text/x-python",
   "name": "python",
   "nbconvert_exporter": "python",
   "pygments_lexer": "ipython3",
   "version": "3.7.4"
  }
 },
 "nbformat": 4,
 "nbformat_minor": 2
}
